{
 "cells": [
  {
   "cell_type": "code",
   "execution_count": 1,
   "id": "fedddde3",
   "metadata": {},
   "outputs": [],
   "source": [
    "import requests\n",
    "from sqlalchemy import create_engine, Column, String, Integer, DateTime\n",
    "from sqlalchemy.orm import sessionmaker\n",
    "from sqlalchemy.ext.declarative import declarative_base\n",
    "import datetime\n"
   ]
  },
  {
   "cell_type": "code",
   "execution_count": 2,
   "id": "c66b73aa",
   "metadata": {},
   "outputs": [
    {
     "name": "stderr",
     "output_type": "stream",
     "text": [
      "C:\\Users\\pmarb\\AppData\\Local\\Temp\\ipykernel_12216\\1972353020.py:3: MovedIn20Warning: The ``declarative_base()`` function is now available as sqlalchemy.orm.declarative_base(). (deprecated since: 2.0) (Background on SQLAlchemy 2.0 at: https://sqlalche.me/e/b8d9)\n",
      "  Base = declarative_base()\n"
     ]
    }
   ],
   "source": [
    "DATABASE_URL = \"sqlite:///data.db\"  # SQLite database URL\n",
    "engine = create_engine(DATABASE_URL)\n",
    "Base = declarative_base()"
   ]
  },
  {
   "cell_type": "code",
   "execution_count": 4,
   "id": "28030289",
   "metadata": {
    "scrolled": true
   },
   "outputs": [
    {
     "data": {
      "text/plain": [
       "<Response [200]>"
      ]
     },
     "execution_count": 4,
     "metadata": {},
     "output_type": "execute_result"
    }
   ],
   "source": [
    "json_url = \"http://www.petharbor.com/get_image.asp?res=DETAIL&id=A489026&location=MONT\"\n",
    "response = requests.get(json_url)\n",
    "# data = response.json()\n",
    "\n",
    "response"
   ]
  },
  {
   "cell_type": "code",
   "execution_count": 10,
   "id": "90b963e0",
   "metadata": {},
   "outputs": [
    {
     "name": "stdout",
     "output_type": "stream",
     "text": [
      "http://petharbor.com/get_image.asp?res=DETAIL&id=A406310&location=MONT has image content: True\n",
      "http://www.petharbor.com/get_image.asp?res=DETAIL&id=A489026&location=MONT has image content: False\n"
     ]
    }
   ],
   "source": [
    "import requests\n",
    "\n",
    "def has_image_content(url):\n",
    "    try:\n",
    "        response = requests.get(url, allow_redirects=True)\n",
    "        \n",
    "        if not response.url.endswith(\"no_pic_d.jpg\"):\n",
    "            return True\n",
    "        \n",
    "        return False\n",
    "    except requests.RequestException:\n",
    "        return False\n",
    "\n",
    "# Example URLs\n",
    "urls = [\n",
    "    \"http://petharbor.com/get_image.asp?res=DETAIL&id=A406310&location=MONT\",\n",
    "    \"http://www.petharbor.com/get_image.asp?res=DETAIL&id=A489026&location=MONT\"\n",
    "]\n",
    "\n",
    "for url in urls:\n",
    "    has_image = has_image_content(url)\n",
    "    print(f\"{url} has image content: {has_image}\")\n"
   ]
  },
  {
   "cell_type": "code",
   "execution_count": 5,
   "id": "2f6c1c93",
   "metadata": {},
   "outputs": [
    {
     "data": {
      "text/plain": [
       "['sid',\n",
       " 'id',\n",
       " 'position',\n",
       " 'created_at',\n",
       " 'created_meta',\n",
       " 'updated_at',\n",
       " 'updated_meta',\n",
       " 'meta',\n",
       " 'Animal ID',\n",
       " 'Intake Type',\n",
       " 'In Date',\n",
       " 'Pet name',\n",
       " 'Animal Type',\n",
       " 'Pet Age',\n",
       " 'Pet Size',\n",
       " 'Color',\n",
       " 'Breed',\n",
       " 'Sex',\n",
       " 'URL Link ',\n",
       " 'Crossing',\n",
       " 'Council Districts',\n",
       " 'Councils',\n",
       " 'Communities',\n",
       " 'Zip Codes',\n",
       " 'Municipalities']"
      ]
     },
     "execution_count": 5,
     "metadata": {},
     "output_type": "execute_result"
    }
   ],
   "source": [
    "columns = []\n",
    "for x in data[\"meta\"][\"view\"][\"columns\"]:\n",
    "    columns.append(x[\"name\"])\n",
    "\n",
    "columns"
   ]
  },
  {
   "cell_type": "code",
   "execution_count": 6,
   "id": "e52cbf92",
   "metadata": {},
   "outputs": [],
   "source": [
    "class RowData(Base):\n",
    "    __tablename__ = 'rows'\n",
    "\n",
    "    animal_id = Column(String, primary_key=True)\n",
    "    name = Column(String)\n",
    "    age = Column(Integer)\n",
    "    animal_type = Column(String)\n",
    "    intake_type = Column(String)\n",
    "    in_date = Column(String)\n",
    "    size = Column(String)\n",
    "    sex = Column(String)\n",
    "    link = Column(String)"
   ]
  },
  {
   "cell_type": "code",
   "execution_count": 7,
   "id": "8a0d0f7c",
   "metadata": {},
   "outputs": [],
   "source": [
    "Base.metadata.create_all(engine)\n",
    "Session = sessionmaker(bind=engine)\n",
    "session = Session()"
   ]
  },
  {
   "cell_type": "code",
   "execution_count": 8,
   "id": "b00a5081",
   "metadata": {},
   "outputs": [],
   "source": [
    "import datetime\n"
   ]
  },
  {
   "cell_type": "code",
   "execution_count": 9,
   "id": "563cd0fb",
   "metadata": {},
   "outputs": [],
   "source": [
    "for item in data['data']:\n",
    "    animal_id = item[columns.index(\"Animal ID\")]\n",
    "    name = item[columns.index(\"Pet name\")]  \n",
    "    age = str(item[columns.index(\"Pet Age\")])\n",
    "    animal_type = item[columns.index(\"Animal Type\")]\n",
    "    intake_type = item[columns.index(\"Intake Type\")]\n",
    "    in_date = str(item[columns.index(\"In Date\")])\n",
    "    size = item[columns.index(\"Pet Size\")]\n",
    "    sex = item[columns.index(\"Sex\")]\n",
    "    link_list = item[columns.index(\"URL Link \")]\n",
    "    if link_list:\n",
    "        link = str(link_list[0])  # Take the first URL if available\n",
    "    else:\n",
    "        link = None  # Set to None if the list is empty\n",
    "    \n",
    "\n",
    "    row = RowData(animal_id=animal_id, name=name, animal_type=animal_type, intake_type=intake_type,  size=size, sex=sex , link=link)\n",
    "    session.add(row)\n",
    "session.commit()\n",
    "session.close()"
   ]
  },
  {
   "cell_type": "code",
   "execution_count": 10,
   "id": "f4524ca6",
   "metadata": {},
   "outputs": [],
   "source": [
    "# session.close()"
   ]
  },
  {
   "cell_type": "code",
   "execution_count": 26,
   "id": "5da6170e",
   "metadata": {},
   "outputs": [],
   "source": [
    "Base.metadata.drop_all(engine)\n",
    "\n",
    "# Close the session\n",
    "session.close()"
   ]
  },
  {
   "cell_type": "code",
   "execution_count": 15,
   "id": "6c3c5f72",
   "metadata": {},
   "outputs": [],
   "source": [
    "from sqlalchemy.orm import Session\n",
    "session = Session(engine)"
   ]
  },
  {
   "cell_type": "code",
   "execution_count": 21,
   "id": "24d3d3b8",
   "metadata": {},
   "outputs": [
    {
     "name": "stdout",
     "output_type": "stream",
     "text": [
      "('A301283',)\n",
      "('A406310',)\n",
      "('A481006',)\n",
      "('A483605',)\n",
      "('A489026',)\n",
      "('A493947',)\n",
      "('A496551',)\n",
      "('A497001',)\n",
      "('A497237',)\n",
      "('A497842',)\n",
      "('A499028',)\n",
      "('A500189',)\n",
      "('A500491',)\n",
      "('A500494',)\n",
      "('A500507',)\n",
      "('A500522',)\n",
      "('A500853',)\n",
      "('A500862',)\n",
      "('A500928',)\n",
      "('A501015',)\n",
      "('A501124',)\n",
      "('A501294',)\n",
      "('A501296',)\n",
      "('A501298',)\n",
      "('A501299',)\n",
      "('A501364',)\n",
      "('A501429',)\n",
      "('A501606',)\n",
      "('A501998',)\n",
      "('A502761',)\n",
      "('A502783',)\n",
      "('A502784',)\n",
      "('A502909',)\n",
      "('A503169',)\n",
      "('A503280',)\n",
      "('A503576',)\n",
      "('A503628',)\n",
      "('A503683',)\n",
      "('A503913',)\n",
      "('A503967',)\n",
      "('A504328',)\n",
      "('A504446',)\n",
      "('A504536',)\n",
      "('A504573',)\n",
      "('A504624',)\n",
      "('A504666',)\n",
      "('A504713',)\n",
      "('A504752',)\n",
      "('A504881',)\n",
      "('A504882',)\n",
      "('A505013',)\n",
      "('A505060',)\n",
      "('A505071',)\n",
      "('A505098',)\n",
      "('A505200',)\n",
      "('A505380',)\n",
      "('A505385',)\n",
      "('A505390',)\n",
      "('A505416',)\n",
      "('A505417',)\n",
      "('A505418',)\n",
      "('A505421',)\n",
      "('A505471',)\n",
      "('A505475',)\n",
      "('A505490',)\n",
      "('A505506',)\n",
      "('A505507',)\n",
      "('A505573',)\n",
      "('A506016',)\n",
      "('A506017',)\n"
     ]
    }
   ],
   "source": [
    "\n",
    "\n",
    "results = session.query(RowData.animal_id)\n",
    "session.close()\n",
    "\n",
    "for result in results:\n",
    "    print(result)"
   ]
  },
  {
   "cell_type": "code",
   "execution_count": 23,
   "id": "e8653664",
   "metadata": {},
   "outputs": [],
   "source": [
    "seen = set()\n",
    "duplicates = []\n",
    "\n",
    "# Iterate through the array\n",
    "for value in results:\n",
    "    if value in seen:\n",
    "        duplicates.append(value)  # Value is a duplicate\n",
    "    else:\n",
    "        seen.add(value)  # Add value to the set of seen values"
   ]
  },
  {
   "cell_type": "code",
   "execution_count": 24,
   "id": "75c094b5",
   "metadata": {},
   "outputs": [
    {
     "data": {
      "text/plain": [
       "[]"
      ]
     },
     "execution_count": 24,
     "metadata": {},
     "output_type": "execute_result"
    }
   ],
   "source": [
    "duplicates"
   ]
  },
  {
   "cell_type": "code",
   "execution_count": 25,
   "id": "a743e425",
   "metadata": {},
   "outputs": [
    {
     "data": {
      "text/plain": [
       "{('A301283',),\n",
       " ('A406310',),\n",
       " ('A481006',),\n",
       " ('A483605',),\n",
       " ('A489026',),\n",
       " ('A493947',),\n",
       " ('A496551',),\n",
       " ('A497001',),\n",
       " ('A497237',),\n",
       " ('A497842',),\n",
       " ('A499028',),\n",
       " ('A500189',),\n",
       " ('A500491',),\n",
       " ('A500494',),\n",
       " ('A500507',),\n",
       " ('A500522',),\n",
       " ('A500853',),\n",
       " ('A500862',),\n",
       " ('A500928',),\n",
       " ('A501015',),\n",
       " ('A501124',),\n",
       " ('A501294',),\n",
       " ('A501296',),\n",
       " ('A501298',),\n",
       " ('A501299',),\n",
       " ('A501364',),\n",
       " ('A501429',),\n",
       " ('A501606',),\n",
       " ('A501998',),\n",
       " ('A502761',),\n",
       " ('A502783',),\n",
       " ('A502784',),\n",
       " ('A502909',),\n",
       " ('A503169',),\n",
       " ('A503280',),\n",
       " ('A503576',),\n",
       " ('A503628',),\n",
       " ('A503683',),\n",
       " ('A503913',),\n",
       " ('A503967',),\n",
       " ('A504328',),\n",
       " ('A504446',),\n",
       " ('A504536',),\n",
       " ('A504573',),\n",
       " ('A504624',),\n",
       " ('A504666',),\n",
       " ('A504713',),\n",
       " ('A504752',),\n",
       " ('A504881',),\n",
       " ('A504882',),\n",
       " ('A505013',),\n",
       " ('A505060',),\n",
       " ('A505071',),\n",
       " ('A505098',),\n",
       " ('A505200',),\n",
       " ('A505380',),\n",
       " ('A505385',),\n",
       " ('A505390',),\n",
       " ('A505416',),\n",
       " ('A505417',),\n",
       " ('A505418',),\n",
       " ('A505421',),\n",
       " ('A505471',),\n",
       " ('A505475',),\n",
       " ('A505490',),\n",
       " ('A505506',),\n",
       " ('A505507',),\n",
       " ('A505573',),\n",
       " ('A506016',),\n",
       " ('A506017',)}"
      ]
     },
     "execution_count": 25,
     "metadata": {},
     "output_type": "execute_result"
    }
   ],
   "source": [
    "seen"
   ]
  },
  {
   "cell_type": "code",
   "execution_count": null,
   "id": "391a18cf",
   "metadata": {},
   "outputs": [],
   "source": []
  }
 ],
 "metadata": {
  "kernelspec": {
   "display_name": "Python 3 (ipykernel)",
   "language": "python",
   "name": "python3"
  },
  "language_info": {
   "codemirror_mode": {
    "name": "ipython",
    "version": 3
   },
   "file_extension": ".py",
   "mimetype": "text/x-python",
   "name": "python",
   "nbconvert_exporter": "python",
   "pygments_lexer": "ipython3",
   "version": "3.10.11"
  }
 },
 "nbformat": 4,
 "nbformat_minor": 5
}
